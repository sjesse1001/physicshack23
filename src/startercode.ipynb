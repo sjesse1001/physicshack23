{
 "cells": [
  {
   "cell_type": "markdown",
   "id": "c5faf090",
   "metadata": {},
   "source": [
    "# <center> Possibility of liquid oceans on the moons of gas giants </center>\n",
    "\n",
    "<center>\n",
    "    Starter code\n",
    "    \n",
    "    2023-11-04\n",
    "    \n",
    "</center>"
   ]
  },
  {
   "cell_type": "code",
   "execution_count": 1,
   "id": "a6c600fb",
   "metadata": {},
   "outputs": [],
   "source": [
    "import numpy as np"
   ]
  },
  {
   "cell_type": "code",
   "execution_count": 17,
   "id": "e11a3d1b",
   "metadata": {},
   "outputs": [
    {
     "data": {
      "text/plain": [
       "6.6743e-11"
      ]
     },
     "execution_count": 17,
     "metadata": {},
     "output_type": "execute_result"
    }
   ],
   "source": [
    "G = 6.67430 * 10**(-11)\n",
    "\n",
    "def get_G():\n",
    "    return G\n",
    "\n",
    "get_G()"
   ]
  },
  {
   "cell_type": "code",
   "execution_count": 7,
   "id": "21000a9e",
   "metadata": {},
   "outputs": [],
   "source": [
    "def E_flux_tidal (M_h, R, n, a, e, K):\n",
    "    \n",
    "    G = 6.67430 * 10**(-11)\n",
    "    \n",
    "    return K*(21/2)*(G*M_h**2*R**2*n*e**2)/a**6"
   ]
  },
  {
   "cell_type": "code",
   "execution_count": 11,
   "id": "9a3fb9a9",
   "metadata": {},
   "outputs": [],
   "source": [
    "def heat_required(V, delta_T):\n",
    "    '''\n",
    "    V: volume in m3\n",
    "    delta_T: temperature difference in K\n",
    "    returns in J\n",
    "    '''    \n",
    "    c = 4.18*10**3 # J/(kg*K) (heat capacity of water)\n",
    "    p = 10**3 # kg/m3 (density of water)\n",
    "    \n",
    "    \n",
    "    return c*p*V*delta_T"
   ]
  },
  {
   "cell_type": "code",
   "execution_count": 12,
   "id": "8a0a3afe",
   "metadata": {},
   "outputs": [
    {
     "data": {
      "text/plain": [
       "2796420000000.0"
      ]
     },
     "execution_count": 12,
     "metadata": {},
     "output_type": "execute_result"
    }
   ],
   "source": [
    "heat_required(3*10**3, 273-50)"
   ]
  },
  {
   "cell_type": "markdown",
   "id": "92394515",
   "metadata": {},
   "source": [
    "# Our model: melting a thick layer of ice"
   ]
  },
  {
   "cell_type": "code",
   "execution_count": 13,
   "id": "e9610d3e",
   "metadata": {},
   "outputs": [],
   "source": [
    "# Sample values based on Europa\n",
    "\n",
    "thickness_ice_0 = 100 # km\n",
    "R_total = 1550 # km"
   ]
  },
  {
   "cell_type": "code",
   "execution_count": 20,
   "id": "50fc0f20",
   "metadata": {},
   "outputs": [],
   "source": [
    "def F_g_shell (M_body, M_shell, r):\n",
    "    \n",
    "    return G*M_body*M_shell/r**2"
   ]
  },
  {
   "cell_type": "code",
   "execution_count": null,
   "id": "858aa059",
   "metadata": {},
   "outputs": [],
   "source": []
  }
 ],
 "metadata": {
  "kernelspec": {
   "display_name": "Python 3 (ipykernel)",
   "language": "python",
   "name": "python3"
  },
  "language_info": {
   "codemirror_mode": {
    "name": "ipython",
    "version": 3
   },
   "file_extension": ".py",
   "mimetype": "text/x-python",
   "name": "python",
   "nbconvert_exporter": "python",
   "pygments_lexer": "ipython3",
   "version": "3.11.4"
  }
 },
 "nbformat": 4,
 "nbformat_minor": 5
}

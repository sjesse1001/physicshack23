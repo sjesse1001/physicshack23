{
 "cells": [
  {
   "cell_type": "markdown",
   "id": "8e7ceb87",
   "metadata": {},
   "source": [
    "# <center> Melting an icy moon </center>\n",
    "\n",
    "<center>\n",
    "    \n",
    "    McGill Physics Hackathon 2023\n",
    "    \n",
    "    Jesse Sutherland and Susan Zhou\n",
    "    \n",
    "    Last edited: 2023-11-05\n",
    "    \n",
    "</center>\n",
    "\n",
    "\n",
    "\n",
    "\n",
    "\n",
    "### Table of Contents:\n",
    "1) [Equation for tidal heating](#1)\n",
    "2) [Simplified model: melting one layer at a time](#2)\n",
    "3) [Pushing model further: considering heat transfer between layers](#3)"
   ]
  },
  {
   "cell_type": "code",
   "execution_count": 1,
   "id": "f1e5a813",
   "metadata": {},
   "outputs": [],
   "source": [
    "import numpy as np\n",
    "import matplotlib.pyplot as plt"
   ]
  },
  {
   "cell_type": "code",
   "execution_count": 2,
   "id": "34fdab6b",
   "metadata": {},
   "outputs": [],
   "source": [
    "G = 6.67430 * 10**(-11) # gravitational constant"
   ]
  },
  {
   "cell_type": "markdown",
   "id": "2c66a40f",
   "metadata": {},
   "source": [
    "## 1) Equation for tidal heating <a class=\"anchor\" id=\"1\">\n",
    "    \n",
    "Equation of heating rate due to tidal friction, found on [Wikipedia](https://en.wikipedia.org/wiki/Tidal_heating)."
   ]
  },
  {
   "cell_type": "code",
   "execution_count": 3,
   "id": "6a6552f9",
   "metadata": {},
   "outputs": [],
   "source": [
    "def E_flux_tidal (M_h, R, w, a, e, K):\n",
    "    \n",
    "    G = 6.67430 * 10**(-11)\n",
    "    \n",
    "    return K*(21/2)*(G*M_h**2*R**2*w*e**2)/a**6"
   ]
  },
  {
   "cell_type": "code",
   "execution_count": 4,
   "id": "e6bd4984",
   "metadata": {},
   "outputs": [],
   "source": [
    "# Sample values inspired from Europa (from wikipedia)\n",
    "\n",
    "M_h = 1.8987*10**27 # Jupiter's mass, kg\n",
    "R = 1560*10**3 # Europa radius, m\n",
    "v_avg = 13743.36 # m/s\n",
    "a = 670900*10**3 # average orbital radius, m\n",
    "w = v_avg/a\n",
    "e = 0.009\n",
    "K = 0.02 \n",
    "# \"love number for frozen interior\"\n",
    "# Source: https://www.sciencedirect.com/science/article/pii/S0019103596956699?via%3Dihub\n",
    "T_period = 3.551181*24*3600 # s\n",
    "\n",
    "E_dot = E_flux_tidal(M_h, R, w, a, e, K) # in J/s\n"
   ]
  },
  {
   "cell_type": "markdown",
   "id": "6fca89b4",
   "metadata": {},
   "source": [
    "## 2) Simplified model: melting one layer at a time <a class=\"anchor\" id=\"2\">\n",
    "\n",
    "Assumptions:\n",
    "* Divide 100-km ice shell into 100 layers, and assume each layer is completely melted before the next layer begins to melt\n",
    "* Assume material parameters (density, heat capacity, thermal conductivity) are constant"
   ]
  },
  {
   "cell_type": "markdown",
   "id": "438da042",
   "metadata": {},
   "source": [
    "Change in temperature and heat are related by the heat capacity $C_p$ (J/K):\n",
    "\n",
    "$$\\Delta Q = C_p \\Delta T$$\n",
    "\n",
    "Since $\\Delta Q = \\dot{Q}\\Delta t$, the time required to change the temperature of a substance by $\\Delta T$ is:\n",
    "\n",
    "$$ \\Delta t = \\frac{ \\dot{Q}_\\text{net}\\Delta T} {C_p}$$\n",
    "\n",
    "Assuming a melting point of 273 K, $\\Delta T = 273 K - 100 K$."
   ]
  },
  {
   "cell_type": "markdown",
   "id": "9a732357",
   "metadata": {},
   "source": [
    "### Materials parameters:"
   ]
  },
  {
   "cell_type": "code",
   "execution_count": 5,
   "id": "dc749f06",
   "metadata": {},
   "outputs": [],
   "source": [
    "# Sources:\n",
    "# https://www.engineeringtoolbox.com/ice-thermal-properties-d_576.html\n",
    "# https://www.desmos.com/calculator/wicmrvrznj?lang=ru\n",
    "\n",
    "def get_c_p(T):\n",
    "    \n",
    "    return 833 # J/kg.K (SI)\n",
    "\n",
    "def get_k_t(T):\n",
    "    return 3.48*10**3 # W/K\n",
    "\n",
    "def get_rho(i):\n",
    "    return 925.7 # kg/m3"
   ]
  },
  {
   "cell_type": "code",
   "execution_count": 6,
   "id": "a9986eb9",
   "metadata": {},
   "outputs": [],
   "source": [
    "# Simulation parameters\n",
    "\n",
    "N = 100 # number of layers\n",
    "R_ice_0 = 100 # m\n",
    "delta_r = R_ice_0/N\n",
    "\n",
    "R_body = 1000 # m\n",
    "\n",
    "\n",
    "N = 100 # number of layers\n",
    "R_ice_0 = 100*10**3 # m\n",
    "delta_r = R_ice_0/N\n",
    "\n",
    "R_body = 1450*10**3 # m\n",
    "\n",
    "\n",
    "# Update arrays:\n",
    "\n",
    "r_arr = np.arange(R_body, R_body+R_ice_0, delta_r)\n",
    "\n",
    "A_sphere = 4*np.pi*r_arr**2 # dun increa that much"
   ]
  },
  {
   "cell_type": "code",
   "execution_count": 7,
   "id": "ef718d17",
   "metadata": {},
   "outputs": [],
   "source": [
    "delta_t_layer = np.zeros(N)\n",
    "\n",
    "for i in range(N):\n",
    "\n",
    "    delta_t_layer[i] = get_c_p(0)*A_sphere[i]*delta_r*(273-100)/E_dot\n",
    "\n",
    "    \n",
    "delta_t_layer\n",
    "\n",
    "total_t = delta_t_layer.copy()\n",
    "\n",
    "for i in range(1, N):\n",
    "    total_t[i] += total_t[i-1]"
   ]
  },
  {
   "cell_type": "code",
   "execution_count": 8,
   "id": "2394dd8a",
   "metadata": {},
   "outputs": [],
   "source": [
    "r_vs_t = np.zeros((2, N))\n",
    "r_vs_t[0] = total_t\n",
    "r_vs_t[1] = r_arr\n",
    "np.savetxt('../data/r_vs_t.2.csv', r_vs_t.transpose(), delimiter=',')"
   ]
  },
  {
   "cell_type": "code",
   "execution_count": 9,
   "id": "a62a7763",
   "metadata": {
    "scrolled": false
   },
   "outputs": [
    {
     "data": {
      "text/plain": [
       "Text(0, 0.5, 'Distance melted (m)')"
      ]
     },
     "execution_count": 9,
     "metadata": {},
     "output_type": "execute_result"
    },
    {
     "data": {
      "image/png": "[encoded data removed]",
      "text/plain": [
       "<Figure size 640x480 with 1 Axes>"
      ]
     },
     "metadata": {},
     "output_type": "display_data"
    }
   ],
   "source": [
    "plt.scatter(total_t, r_arr, s=1, c=\"black\")\n",
    "\n",
    "plt.title(\"Melting of layers: progression over time\")\n",
    "plt.xlabel(\"Time (s)\")\n",
    "plt.ylabel(\"Distance melted (m)\")"
   ]
  },
  {
   "cell_type": "markdown",
   "id": "1bc1699b",
   "metadata": {},
   "source": [
    "## 3) Pushing model further: considering heat transfer between layers <a class=\"anchor\" id=\"3\">"
   ]
  },
  {
   "cell_type": "markdown",
   "id": "e8ff8916",
   "metadata": {},
   "source": [
    "### Equations\n",
    "\n",
    "1) Rate of heat transfer between two layers is computed with Fourier's law of heat conduction\n",
    "\n",
    "$$ \\dot{Q} = k_t A \\frac{\\Delta T}{\\Delta r} $$\n",
    "\n",
    "where $k_t$ is the thermal conductivity, $A$ is the contact area (surface of sphere), $\\Delta T$ is the difference in temperature between the current layer and the previous layer, $\\Delta r$ is the thickness of each layer. For each layer, the net rate of heat transfer $\\dot{Q}_\\text{net} = \\dot{Q}_\\text{in} - \\dot{Q}_\\text{out}$, where the heat flows from the hotter inner layers to the colder outer layers.\n",
    "\n",
    "\n",
    "2) Change in temperature and heat are related by the heat capacity $C_p$ (J/K):\n",
    "\n",
    "$$\\Delta Q = C_p \\Delta T$$\n",
    "\n",
    "Since $\\Delta Q = \\dot{Q}\\Delta t$, the change in temperature in a given time interval is:\n",
    "\n",
    "$$ \\Delta T = \\frac{ \\dot{Q}_\\text{net}\\Delta t} {C_p}$$"
   ]
  },
  {
   "cell_type": "code",
   "execution_count": 10,
   "id": "7779ac2a",
   "metadata": {},
   "outputs": [],
   "source": [
    "# Equations\n",
    "\n",
    "def get_Q_dot(i):\n",
    "    \n",
    "    return get_k_t(i-1)*A_sphere[i]*(T_layer[i]-T_layer[i-1])/delta_r\n",
    "\n",
    "def get_delta_T(i):\n",
    "    \n",
    "    return Net_Q_dot[i]*delta_t/(get_c_p(T_layer[i])*A_sphere[i]*delta_r*get_rho(0))\n"
   ]
  },
  {
   "cell_type": "code",
   "execution_count": 11,
   "id": "7b791b41",
   "metadata": {},
   "outputs": [],
   "source": [
    "def get_Q_dot_2(i, A):\n",
    "    \n",
    "    \n",
    "    return get_k_t(i-1)*A*(T_layer[i-1]-T_layer[i])/delta_r\n",
    "\n",
    "def get_delta_T_2(Net_Q_dot, A):\n",
    "    \n",
    "    return Net_Q_dot*delta_t/(get_c_p(0)*A*delta_r*get_rho(0))"
   ]
  },
  {
   "cell_type": "code",
   "execution_count": 12,
   "id": "cf0c0a13",
   "metadata": {},
   "outputs": [],
   "source": [
    "# Simulation 2\n",
    "\n",
    "\n",
    "N = 100 # number of layers\n",
    "R_ice_0 = 100 # m\n",
    "delta_r = R_ice_0/N\n",
    "\n",
    "R_body = 1000 # m\n",
    "\n",
    "\n",
    "N = 100 # number of layers\n",
    "R_ice_0 = 100*10**3 # m\n",
    "delta_r = R_ice_0/N\n",
    "\n",
    "R_body = 1450*10**3 # m\n",
    "\n",
    "\n",
    "\n",
    "# Update arrays:\n",
    "\n",
    "r_arr = np.arange(R_body, R_body+R_ice_0, delta_r)\n",
    "\n",
    "\n",
    "T_layer = np.zeros(N)+100 # all start at 100 K\n",
    "\n",
    "Net_Q_dot = np.zeros(N)\n",
    "\n",
    "E_dot = E_flux_tidal(M_h, R, w, a, e, K)\n",
    "\n",
    "\n",
    "delta_t = 10**3 # timescale\n",
    "\n",
    "\n",
    "A_column = np.zeros(N)+1\n",
    "A_sphere = 4*np.pi*r_arr**2 # dun increa that much\n",
    "\n",
    "\n",
    "for t in range(30):\n",
    "\n",
    "    Net_Q_dot[0] = E_dot - get_Q_dot(1)\n",
    "    Net_Q_dot[N-1] = get_Q_dot(N-1)\n",
    "    \n",
    "\n",
    "    for i in range(1, N-1):\n",
    "\n",
    "        Net_Q_dot[i] = get_Q_dot_2(i, 1) - get_Q_dot_2(i+1, 1)\n",
    "        \n",
    "        \n",
    "\n",
    "    for i in range(N):\n",
    "        T_layer[i] += get_delta_T_2(Net_Q_dot[i], 1)"
   ]
  },
  {
   "cell_type": "code",
   "execution_count": 13,
   "id": "f4a44b0c",
   "metadata": {},
   "outputs": [],
   "source": [
    "np.savetxt('../data/T_distr.2.csv', T_layer, delimiter=',')"
   ]
  },
  {
   "cell_type": "code",
   "execution_count": 14,
   "id": "e1e2e01a",
   "metadata": {},
   "outputs": [
    {
     "data": {
      "image/png": "[encoded data removed]",
      "text/plain": [
       "<Figure size 640x480 with 1 Axes>"
      ]
     },
     "metadata": {},
     "output_type": "display_data"
    }
   ],
   "source": [
    "plt.scatter(r_arr[0:28], np.log10(T_layer[0:28]))\n",
    "\n",
    "plt.title(\"Temperature distribution after 30 iterations\")\n",
    "plt.xlabel(\"Distance from center of moon (m)\")\n",
    "plt.ylabel(\"Temperature (log scale, K)\")\n",
    "\n",
    "plt.savefig('../figs/T_distr', dpi=150)"
   ]
  }
 ],
 "metadata": {
  "kernelspec": {
   "display_name": "Python 3 (ipykernel)",
   "language": "python",
   "name": "python3"
  },
  "language_info": {
   "codemirror_mode": {
    "name": "ipython",
    "version": 3
   },
   "file_extension": ".py",
   "mimetype": "text/x-python",
   "name": "python",
   "nbconvert_exporter": "python",
   "pygments_lexer": "ipython3",
   "version": "3.11.4"
  }
 },
 "nbformat": 4,
 "nbformat_minor": 5
}

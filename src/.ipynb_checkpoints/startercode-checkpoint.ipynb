{
 "cells": [
  {
   "cell_type": "markdown",
   "id": "7b1e3009",
   "metadata": {},
   "source": [
    "# <center> Possibility of liquid oceans on the moons of gas giants </center>\n",
    "\n",
    "<center>\n",
    "    Starter code\n",
    "    \n",
    "    2023-11-04\n",
    "    \n",
    "</center>"
   ]
  },
  {
   "cell_type": "code",
   "execution_count": 1,
   "id": "00fbb4d0",
   "metadata": {},
   "outputs": [],
   "source": [
    "import numpy as np"
   ]
  },
  {
   "cell_type": "code",
   "execution_count": 7,
   "id": "f4c283ed",
   "metadata": {},
   "outputs": [],
   "source": [
    "def E_flux_tidal (M_h, R, n, a, e, K):\n",
    "    \n",
    "    G = 6.67430 * 10**(-11)\n",
    "    \n",
    "    return K*(21/2)*(G*M_h**2*R**2*n*e**2)/a**6"
   ]
  },
  {
   "cell_type": "code",
   "execution_count": 11,
   "id": "0c22ce95",
   "metadata": {},
   "outputs": [],
   "source": [
    "def heat_required(V, delta_T):\n",
    "    '''\n",
    "    V: volume in m3\n",
    "    delta_T: temperature difference in K\n",
    "    returns in J\n",
    "    '''    \n",
    "    c = 4.18*10**3 # J/(kg*K) (heat capacity of water)\n",
    "    p = 10**3 # kg/m3 (density of water)\n",
    "    \n",
    "    \n",
    "    return c*p*V*delta_T"
   ]
  },
  {
   "cell_type": "code",
   "execution_count": 12,
   "id": "64386e41",
   "metadata": {},
   "outputs": [
    {
     "data": {
      "text/plain": [
       "2796420000000.0"
      ]
     },
     "execution_count": 12,
     "metadata": {},
     "output_type": "execute_result"
    }
   ],
   "source": [
    "heat_required(3*10**3, 273-50)"
   ]
  }
 ],
 "metadata": {
  "kernelspec": {
   "display_name": "Python 3 (ipykernel)",
   "language": "python",
   "name": "python3"
  },
  "language_info": {
   "codemirror_mode": {
    "name": "ipython",
    "version": 3
   },
   "file_extension": ".py",
   "mimetype": "text/x-python",
   "name": "python",
   "nbconvert_exporter": "python",
   "pygments_lexer": "ipython3",
   "version": "3.11.4"
  }
 },
 "nbformat": 4,
 "nbformat_minor": 5
}
